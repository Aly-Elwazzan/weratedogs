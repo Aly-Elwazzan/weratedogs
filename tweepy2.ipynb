{
 "cells": [
  {
   "cell_type": "code",
   "execution_count": 2,
   "metadata": {},
   "outputs": [],
   "source": [
    "import tweepy\n",
    "from tweepy import OAuthHandler\n",
    "import json\n",
    "from timeit import default_timer as timer"
   ]
  },
  {
   "cell_type": "code",
   "execution_count": 3,
   "metadata": {},
   "outputs": [],
   "source": [
    "# Query Twitter API for each tweet in the Twitter archive and save JSON in a text file\n",
    "# These are hidden to comply with Twitter's API terms and conditions\n",
    "consumer_key = ''\n",
    "consumer_secret = ''\n",
    "access_token = ''\n",
    "access_secret = ''"
   ]
  },
  {
   "cell_type": "code",
   "execution_count": 4,
   "metadata": {},
   "outputs": [],
   "source": [
    "auth = OAuthHandler(consumer_key, consumer_secret)\n",
    "auth.set_access_token(access_token, access_secret)\n",
    "\n",
    "api = tweepy.API(auth, wait_on_rate_limit=True)"
   ]
  },
  {
   "cell_type": "code",
   "execution_count": 5,
   "metadata": {},
   "outputs": [],
   "source": [
    "import pandas as pd\n",
    "df_1= pd.read_csv('twitter-archive-enhanced.csv')"
   ]
  },
  {
   "cell_type": "code",
   "execution_count": 6,
   "metadata": {},
   "outputs": [
    {
     "name": "stdout",
     "output_type": "stream",
     "text": [
      "Error @ 888202515573088257\n",
      "Error @ 873697596434513921\n",
      "Error @ 872668790621863937\n",
      "Error @ 872261713294495745\n",
      "Error @ 869988702071779329\n",
      "Error @ 866816280283807744\n",
      "Error @ 861769973181624320\n",
      "Error @ 856602993587888130\n",
      "Error @ 851953902622658560\n",
      "Error @ 845459076796616705\n",
      "Error @ 844704788403113984\n",
      "Error @ 842892208864923648\n",
      "Error @ 837366284874571778\n",
      "Error @ 837012587749474308\n",
      "Error @ 829374341691346946\n",
      "Error @ 827228250799742977\n",
      "Error @ 812747805718642688\n",
      "Error @ 802247111496568832\n",
      "Error @ 779123168116150273\n",
      "Error @ 775096608509886464\n",
      "Error @ 771004394259247104\n",
      "Error @ 770743923962707968\n",
      "Error @ 759566828574212096\n",
      "Rate limit reached. Sleeping for: 741\n",
      "Error @ 754011816964026368\n",
      "Error @ 680055455951884288\n",
      "Rate limit reached. Sleeping for: 742\n"
     ]
    }
   ],
   "source": [
    "ids = list(df_1.tweet_id)\n",
    "data = {}\n",
    "for tweet in ids:\n",
    "    try:\n",
    "        tweet_status = api.get_status(tweet, wait_on_rate_limit=True, wait_on_rate_limit_notify=True)\n",
    "        data[str(tweet)] = tweet_status._json\n",
    "        \n",
    "    except:\n",
    "        print(\"Error @ \" + str(tweet))\n",
    "        "
   ]
  },
  {
   "cell_type": "code",
   "execution_count": 8,
   "metadata": {},
   "outputs": [],
   "source": [
    "with open('tweet_json2.txt', 'w') as file:\n",
    "    json.dump(data, file)"
   ]
  },
  {
   "cell_type": "code",
   "execution_count": null,
   "metadata": {},
   "outputs": [],
   "source": []
  }
 ],
 "metadata": {
  "kernelspec": {
   "display_name": "Python 3",
   "language": "python",
   "name": "python3"
  },
  "language_info": {
   "codemirror_mode": {
    "name": "ipython",
    "version": 3
   },
   "file_extension": ".py",
   "mimetype": "text/x-python",
   "name": "python",
   "nbconvert_exporter": "python",
   "pygments_lexer": "ipython3",
   "version": "3.6.3"
  }
 },
 "nbformat": 4,
 "nbformat_minor": 2
}
